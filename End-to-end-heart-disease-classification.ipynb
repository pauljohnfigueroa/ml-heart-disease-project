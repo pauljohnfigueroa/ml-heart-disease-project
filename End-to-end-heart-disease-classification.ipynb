{
 "cells": [
  {
   "cell_type": "code",
   "execution_count": 1,
   "id": "b92ff380-3362-4242-ab62-d0685a5bfb62",
   "metadata": {},
   "outputs": [
    {
     "data": {
      "text/plain": [
       "'1.4.2'"
      ]
     },
     "execution_count": 1,
     "metadata": {},
     "output_type": "execute_result"
    }
   ],
   "source": [
    "import sklearn\n",
    "\n",
    "sklearn.__version__"
   ]
  },
  {
   "cell_type": "markdown",
   "id": "e044d88f-cb7a-41ba-855d-c5eea8595ee1",
   "metadata": {},
   "source": [
    "# Predicting heart disease using machine learning\n",
    "\n",
    "This notebook looks into using various Python-based machine learning and data science libraries in an attempt to build a machine learning model capable of predicting whether or not someone has heart disease based on their medical attributes.\n",
    "\n",
    "We're going to take the following approach:\n",
    "1. Problem definition\n",
    "2. Data\n",
    "3. Evaluation\n",
    "4. Features\n",
    "5. Modelling\n",
    "6. Experimentation\n",
    "\n",
    "## 1.) Problem definition\n",
    "In a statement,\n",
    "> Given clinical parameters about a patient, can we predict whether or not they have heart disease?''\n",
    "\n",
    "## 2. ) Data\n",
    "The original data came from the Cleveland data from the UCI Machine Learning Repository.\n",
    "- URL: https://archive.ics.uci.edu/dataset/45/heart+disease\n",
    "\n",
    "There is also a version of tit available on Kaggle.\n",
    "URL: https://www.kaggle.com/datasets/redwankarimsony/heart-disease-data\n",
    "\n",
    "## 3. ) Evaluation\n",
    "> If we can reach 95% accuracy at predicting whether or not a patient has heart disease during the proof of concept, we will pursue the project.\n"
   ]
  },
  {
   "cell_type": "code",
   "execution_count": null,
   "id": "c905f996-b237-47fd-996c-598c1f21a4e9",
   "metadata": {},
   "outputs": [],
   "source": [
    "# Create data dictionary\n",
    "id (Unique id for each patient)\n",
    "age (Age of the patient in years)\n",
    "origin (place of study)\n",
    "sex (Male/Female)\n",
    "cp chest pain type ([typical angina, atypical angina, non-anginal, asymptomatic])\n",
    "trestbps resting blood pressure (resting blood pressure (in mm Hg on admission to the hospital))\n",
    "chol (serum cholesterol in mg/dl)\n",
    "fbs (if fasting blood sugar > 120 mg/dl)\n",
    "restecg (resting electrocardiographic results)\n",
    "-- Values: [normal, stt abnormality, lv hypertrophy]\n",
    "thalach: maximum heart rate achieved\n",
    "exang: exercise-induced angina (True/ False)\n",
    "oldpeak: ST depression induced by exercise relative to rest\n",
    "slope: the slope of the peak exercise ST segment\n",
    "ca: number of major vessels (0-3) colored by fluoroscopy\n",
    "thal: [normal; fixed defect; reversible defect]\n",
    "num: the predicted attribute\n"
   ]
  }
 ],
 "metadata": {
  "kernelspec": {
   "display_name": "Python 3 (ipykernel)",
   "language": "python",
   "name": "python3"
  },
  "language_info": {
   "codemirror_mode": {
    "name": "ipython",
    "version": 3
   },
   "file_extension": ".py",
   "mimetype": "text/x-python",
   "name": "python",
   "nbconvert_exporter": "python",
   "pygments_lexer": "ipython3",
   "version": "3.12.4"
  }
 },
 "nbformat": 4,
 "nbformat_minor": 5
}
